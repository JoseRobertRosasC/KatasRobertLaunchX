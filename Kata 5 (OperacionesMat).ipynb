{
 "cells": [
  {
   "cell_type": "markdown",
   "metadata": {},
   "source": [
    "# Ejercicio1 - Utilizar operadores aritméticos\n"
   ]
  },
  {
   "cell_type": "markdown",
   "metadata": {},
   "source": [
    "# Realizar la operación"
   ]
  },
  {
   "cell_type": "code",
   "execution_count": 31,
   "metadata": {},
   "outputs": [
    {
     "name": "stdout",
     "output_type": "stream",
     "text": [
      "390577533\n"
     ]
    }
   ],
   "source": [
    "Tierra = 149597870\n",
    "Jupiter = 778547200\n",
    "distancia = (Tierra - Jupiter) * 0.621\n",
    "print(int(abs(distancia)))"
   ]
  },
  {
   "cell_type": "markdown",
   "metadata": {},
   "source": [
    "# Ejercicio 2: convierte cadenas en números y usa valores absolutos\n"
   ]
  },
  {
   "cell_type": "code",
   "execution_count": 32,
   "metadata": {},
   "outputs": [
    {
     "name": "stdout",
     "output_type": "stream",
     "text": [
      "390577533\n"
     ]
    }
   ],
   "source": [
    "distanciaP1 = int(input(\"¿Cuál es la distancia entre el Sol y el planeta uno?\"))\n",
    "distanciaP2 = int(input(\"¿Cuál es la distancia entre el Sol y el planeta dos?\"))\n",
    "distanciaPlanetas = int(distanciaP1 - distanciaP2) * 0.621\n",
    "print(int(abs(distanciaPlanetas)))\n"
   ]
  }
 ],
 "metadata": {
  "interpreter": {
   "hash": "dc6258c23d2d9df426facb73b2b4c0fef6c3d1a6d2e34f1b30f6bd846ea89a85"
  },
  "kernelspec": {
   "display_name": "Python 3.9.7 64-bit",
   "language": "python",
   "name": "python3"
  },
  "language_info": {
   "codemirror_mode": {
    "name": "ipython",
    "version": 3
   },
   "file_extension": ".py",
   "mimetype": "text/x-python",
   "name": "python",
   "nbconvert_exporter": "python",
   "pygments_lexer": "ipython3",
   "version": "3.9.7"
  },
  "orig_nbformat": 4
 },
 "nbformat": 4,
 "nbformat_minor": 2
}
