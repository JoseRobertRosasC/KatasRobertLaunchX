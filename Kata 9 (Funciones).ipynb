{
 "cells": [
  {
   "cell_type": "markdown",
   "metadata": {},
   "source": [
    "# Ejercicio: Uso de funciones en Python\n",
    "# Ejercicio 1: Trabajar con argumentos en funciones"
   ]
  },
  {
   "cell_type": "code",
   "execution_count": null,
   "metadata": {},
   "outputs": [],
   "source": [
    "# Función para leer 3 tanques de combustible y muestre el promedio\n",
    "\n",
    "def reporte(tanque1, tanque2, tanque3):\n",
    "    promedio = (tanque1 + tanque2 + tanque3) / 3\n",
    "    return f\"\"\"Reporte:\n",
    "    promedio: {promedio}\n",
    "    tanque 1: {tanque1}\n",
    "    tanque 2: {tanque2}\n",
    "    tanque 3: {tanque3}\n",
    "    \"\"\"\n",
    "print(reporte(100, 90, 110))\n",
    "\n",
    "\n",
    "\n",
    "# Función promedio \n",
    "def promedio2(values):\n",
    "    calculo = sum(values)\n",
    "    numerodeelementos = len(values)\n",
    "    return calculo / numerodeelementos\n",
    "promedio2([100, 90, 110]) \n",
    "\n",
    "\n",
    "\n",
    "# Actualiza la función\n",
    "def reporte(tanque1, tanque2, tanque3):\n",
    "    return f\"\"\"Reporte:\n",
    "    promedio: {promedio2([tanque1, tanque2, tanque3])}\n",
    "    tanque 1: {tanque1}\n",
    "    tanque 2: {tanque2}\n",
    "    tanque 3: {tanque3} \n",
    "    \"\"\"\n",
    "print(reporte(100,80,170))\n"
   ]
  },
  {
   "cell_type": "markdown",
   "metadata": {},
   "source": [
    "# Ejercicio 2: Trabajo con argumentos de palabra clave\n",
    "# Ejercicio : Trabajar con argumentos de palabras clave en funciones"
   ]
  },
  {
   "cell_type": "code",
   "execution_count": 112,
   "metadata": {},
   "outputs": [
    {
     "name": "stdout",
     "output_type": "stream",
     "text": [
      "Informe de Cohete\n",
      "    Hora de prelanzamiento: 3\n",
      "    Tiempo de vuelo: 51\n",
      "    Tiempo total del recorrido: 54\n",
      "    Destino: Luna\n",
      "    Tanque externo 100\n",
      "    Tanque interno 98\n",
      "    Total de combustible: 198\n",
      "    \n",
      "\n",
      "    Destino: Luna\n",
      "    Tiempo de viaje: 269 minutos\n",
      "    Total de combustible: 290\n",
      "    \n",
      "\n",
      "    Destino: Luna\n",
      "    Tiempo de viaje: 239 minutos\n",
      "    Total de combustible: 252\n",
      "    tanqueE  80 \n",
      "tanqueI  120 \n",
      "tanqueExtra  52 \n",
      "\n"
     ]
    }
   ],
   "source": [
    "# Función con un informe preciso de la misión. Considera hora de prelanzamiento, tiempo de vuelo, destino,tanque \n",
    "# externo y tanque interno\n",
    "def informeCohete(horaPre,tiempoVuelo,destino,tanqueE,tanqueI):\n",
    "    totalVuelo=horaPre+tiempoVuelo\n",
    "    totalTanques=tanqueE+tanqueI\n",
    "    return f\"\"\"Informe de Cohete\n",
    "    Hora de prelanzamiento: {horaPre}\n",
    "    Tiempo de vuelo: {tiempoVuelo}\n",
    "    Tiempo total del recorrido: {totalVuelo}\n",
    "    Destino: {destino}\n",
    "    Tanque externo {tanqueE}\n",
    "    Tanque interno {tanqueI}\n",
    "    Total de combustible: {totalTanques}\n",
    "    \"\"\"\n",
    "print(informeCohete(horaPre=3, tiempoVuelo=51, destino='Luna', tanqueE=100, tanqueI=98))\n",
    "\n",
    "# Escribe tu nueva función de reporte considerando lo anterior\n",
    "\n",
    "def informeCohete(destino, *minutes, **fuel_reservoirs):\n",
    "    return f\"\"\"\n",
    "    Destino: {destino}\n",
    "    Tiempo de viaje: {sum(minutes)} minutos\n",
    "    Total de combustible: {sum(fuel_reservoirs.values())}\n",
    "    \"\"\"\n",
    "\n",
    "print(informeCohete(\"Luna\", 30, 32, 51, 156, tanqueE=95, tanqueI=95, tanqueAgregado=100))\n",
    "\n",
    "# Escribe tu nueva función\n",
    "\n",
    "def informeCohete(destino, *minutes, **fuel_reservoirs):\n",
    "    ReporteFinal = f\"\"\"\n",
    "    Destino: {destino}\n",
    "    Tiempo de viaje: {sum(minutes)} minutos\n",
    "    Total de combustible: {sum(fuel_reservoirs.values())}\n",
    "    \"\"\"\n",
    "    for nombreTanque, capacidad in fuel_reservoirs.items():\n",
    "        ReporteFinal += f\"{nombreTanque}  {capacidad} \\n\"\n",
    "    return ReporteFinal\n",
    "\n",
    "print(informeCohete(\"Luna\", 14, 44, 87, 94, tanqueE=80, tanqueI=120, tanqueExtra=52))\n"
   ]
  }
 ],
 "metadata": {
  "interpreter": {
   "hash": "dc6258c23d2d9df426facb73b2b4c0fef6c3d1a6d2e34f1b30f6bd846ea89a85"
  },
  "kernelspec": {
   "display_name": "Python 3.9.7 64-bit",
   "language": "python",
   "name": "python3"
  },
  "language_info": {
   "codemirror_mode": {
    "name": "ipython",
    "version": 3
   },
   "file_extension": ".py",
   "mimetype": "text/x-python",
   "name": "python",
   "nbconvert_exporter": "python",
   "pygments_lexer": "ipython3",
   "version": "3.9.7"
  },
  "orig_nbformat": 4
 },
 "nbformat": 4,
 "nbformat_minor": 2
}
