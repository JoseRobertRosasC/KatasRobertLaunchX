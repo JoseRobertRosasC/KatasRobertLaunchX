{
 "cells": [
  {
   "cell_type": "markdown",
   "metadata": {},
   "source": [
    "# Escribir declaraciones if, else, y elif"
   ]
  },
  {
   "cell_type": "markdown",
   "metadata": {},
   "source": [
    "# Impacto de Asteroide"
   ]
  },
  {
   "cell_type": "code",
   "execution_count": 64,
   "metadata": {},
   "outputs": [
    {
     "name": "stdout",
     "output_type": "stream",
     "text": [
      "¡Advertencia, un asteroide hará contacto con la Tierra!\n"
     ]
    }
   ],
   "source": [
    "asteroide = 49\n",
    "\n",
    "alerta = 25\n",
    "\n",
    "if asteroide > alerta:\n",
    "    print(\"¡Advertencia, un asteroide hará contacto con la Tierra!\")\n",
    "else:\n",
    "    print(\"La Tierra se encuentra a salvo\")\n",
    "\n"
   ]
  },
  {
   "cell_type": "markdown",
   "metadata": {},
   "source": [
    "# Rayo de luz del Asteroide"
   ]
  },
  {
   "cell_type": "code",
   "execution_count": 65,
   "metadata": {},
   "outputs": [
    {
     "name": "stdout",
     "output_type": "stream",
     "text": [
      "¡No podremos ver el Asteroide!\n"
     ]
    }
   ],
   "source": [
    "asteroide0 = 19\n",
    "\n",
    "rayoLuz = 20 \n",
    "\n",
    "if asteroide0 >= rayoLuz:\n",
    "    print(\"¡Miren arriba ese rayo de luz es provocado por un Asteroide!\")\n",
    "elif asteroide0 < rayoLuz:\n",
    "    print(\"¡No podremos ver el Asteroide!\")\n",
    "else:\n",
    "    print(\"No existe ningún Asteroide\")"
   ]
  },
  {
   "cell_type": "markdown",
   "metadata": {},
   "source": [
    "# Uso de operadores and y or"
   ]
  },
  {
   "cell_type": "code",
   "execution_count": 66,
   "metadata": {},
   "outputs": [
    {
     "name": "stdout",
     "output_type": "stream",
     "text": [
      "¡Impacto inminente!\n"
     ]
    }
   ],
   "source": [
    "tamañoAsteroide=100\n",
    "velocidadAsteroide=10\n",
    "if (tamañoAsteroide > 25 and tamañoAsteroide < 1000) or (velocidadAsteroide > 25):\n",
    "    print(\"¡Impacto inminente!\")\n",
    "elif tamañoAsteroide < 25 :\n",
    "    print(\"No hay peligro\")\n",
    "elif velocidadAsteroide >= 20:\n",
    "    print(\"Se podrá apreciar el rayo de luz del asteroide\")\n",
    "else:\n",
    "    print(\"No hay peligro\")\n"
   ]
  }
 ],
 "metadata": {
  "interpreter": {
   "hash": "dc6258c23d2d9df426facb73b2b4c0fef6c3d1a6d2e34f1b30f6bd846ea89a85"
  },
  "kernelspec": {
   "display_name": "Python 3.9.7 64-bit",
   "language": "python",
   "name": "python3"
  },
  "language_info": {
   "codemirror_mode": {
    "name": "ipython",
    "version": 3
   },
   "file_extension": ".py",
   "mimetype": "text/x-python",
   "name": "python",
   "nbconvert_exporter": "python",
   "pygments_lexer": "ipython3",
   "version": "3.9.7"
  },
  "orig_nbformat": 4
 },
 "nbformat": 4,
 "nbformat_minor": 2
}
